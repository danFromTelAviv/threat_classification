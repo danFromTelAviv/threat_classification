{
 "cells": [
  {
   "cell_type": "code",
   "execution_count": 2,
   "metadata": {},
   "outputs": [],
   "source": [
    "import pandas as pd\n",
    "df = pd.read_csv('/workspaces/threat_classification/scam_reports_sample_10000.csv')"
   ]
  },
  {
   "cell_type": "code",
   "execution_count": 2,
   "metadata": {},
   "outputs": [
    {
     "data": {
      "text/html": [
       "<div>\n",
       "<style scoped>\n",
       "    .dataframe tbody tr th:only-of-type {\n",
       "        vertical-align: middle;\n",
       "    }\n",
       "\n",
       "    .dataframe tbody tr th {\n",
       "        vertical-align: top;\n",
       "    }\n",
       "\n",
       "    .dataframe thead th {\n",
       "        text-align: right;\n",
       "    }\n",
       "</style>\n",
       "<table border=\"1\" class=\"dataframe\">\n",
       "  <thead>\n",
       "    <tr style=\"text-align: right;\">\n",
       "      <th></th>\n",
       "      <th>pk_id</th>\n",
       "      <th>scam_id</th>\n",
       "      <th>scammer_id</th>\n",
       "      <th>description</th>\n",
       "      <th>createdOn</th>\n",
       "      <th>modifiedOn</th>\n",
       "      <th>scam_name</th>\n",
       "      <th>confirmed</th>\n",
       "      <th>scam_type</th>\n",
       "      <th>dollar_value</th>\n",
       "      <th>...</th>\n",
       "      <th>scammer_address_1</th>\n",
       "      <th>scammer_address_2</th>\n",
       "      <th>scammer_city</th>\n",
       "      <th>scammer_state</th>\n",
       "      <th>scammer_zip</th>\n",
       "      <th>scammer_phone</th>\n",
       "      <th>scammer_email</th>\n",
       "      <th>scammer_url</th>\n",
       "      <th>scam_type_id</th>\n",
       "      <th>definition</th>\n",
       "    </tr>\n",
       "  </thead>\n",
       "  <tbody>\n",
       "    <tr>\n",
       "      <th>0</th>\n",
       "      <td>848147</td>\n",
       "      <td>848724</td>\n",
       "      <td>867691.0</td>\n",
       "      <td>received letter stating that I must call immed...</td>\n",
       "      <td>2024-05-30</td>\n",
       "      <td>2024-05-30</td>\n",
       "      <td>NaN</td>\n",
       "      <td>False</td>\n",
       "      <td>Phishing</td>\n",
       "      <td>0.0</td>\n",
       "      <td>...</td>\n",
       "      <td>NaN</td>\n",
       "      <td>NaN</td>\n",
       "      <td>NaN</td>\n",
       "      <td>NaN</td>\n",
       "      <td>NaN</td>\n",
       "      <td>(877) 205-9492</td>\n",
       "      <td>NaN</td>\n",
       "      <td>NaN</td>\n",
       "      <td>23</td>\n",
       "      <td>In these schemes, scammers impersonating a tru...</td>\n",
       "    </tr>\n",
       "    <tr>\n",
       "      <th>1</th>\n",
       "      <td>848330</td>\n",
       "      <td>848907</td>\n",
       "      <td>867874.0</td>\n",
       "      <td>Sent an email that read:Request Logged\\nWe're ...</td>\n",
       "      <td>2024-05-30</td>\n",
       "      <td>2024-05-30</td>\n",
       "      <td>NaN</td>\n",
       "      <td>False</td>\n",
       "      <td>Other</td>\n",
       "      <td>345.0</td>\n",
       "      <td>...</td>\n",
       "      <td>NaN</td>\n",
       "      <td>NaN</td>\n",
       "      <td>NaN</td>\n",
       "      <td>NaN</td>\n",
       "      <td>NaN</td>\n",
       "      <td>1(111) 111-1111</td>\n",
       "      <td>sraylin_nhei2223@icloud.com</td>\n",
       "      <td>NaN</td>\n",
       "      <td>36</td>\n",
       "      <td>Another category of scam experience that curre...</td>\n",
       "    </tr>\n",
       "    <tr>\n",
       "      <th>2</th>\n",
       "      <td>848370</td>\n",
       "      <td>848947</td>\n",
       "      <td>867914.0</td>\n",
       "      <td>Email sent as fake invoice for Norton PC and t...</td>\n",
       "      <td>2024-05-30</td>\n",
       "      <td>2024-05-30</td>\n",
       "      <td>NaN</td>\n",
       "      <td>False</td>\n",
       "      <td>Phishing</td>\n",
       "      <td>0.0</td>\n",
       "      <td>...</td>\n",
       "      <td>NaN</td>\n",
       "      <td>NaN</td>\n",
       "      <td>NaN</td>\n",
       "      <td>NaN</td>\n",
       "      <td>NaN</td>\n",
       "      <td>(888) 462-4991</td>\n",
       "      <td>emberislacederada@gmail.com</td>\n",
       "      <td>NaN</td>\n",
       "      <td>23</td>\n",
       "      <td>In these schemes, scammers impersonating a tru...</td>\n",
       "    </tr>\n",
       "    <tr>\n",
       "      <th>3</th>\n",
       "      <td>848351</td>\n",
       "      <td>848928</td>\n",
       "      <td>867895.0</td>\n",
       "      <td>My husband and I was looking at renting a hous...</td>\n",
       "      <td>2024-05-30</td>\n",
       "      <td>2024-05-30</td>\n",
       "      <td>NaN</td>\n",
       "      <td>False</td>\n",
       "      <td>Online Purchase</td>\n",
       "      <td>0.0</td>\n",
       "      <td>...</td>\n",
       "      <td>NaN</td>\n",
       "      <td>NaN</td>\n",
       "      <td>Raeford</td>\n",
       "      <td>NC</td>\n",
       "      <td>NaN</td>\n",
       "      <td>NaN</td>\n",
       "      <td>NaN</td>\n",
       "      <td>Facebook Marketplace</td>\n",
       "      <td>43</td>\n",
       "      <td>These scams typically involve the purchase of ...</td>\n",
       "    </tr>\n",
       "    <tr>\n",
       "      <th>4</th>\n",
       "      <td>848001</td>\n",
       "      <td>848578</td>\n",
       "      <td>867545.0</td>\n",
       "      <td>Scammer charged to my credit card for somethin...</td>\n",
       "      <td>2024-05-30</td>\n",
       "      <td>2024-05-30</td>\n",
       "      <td>Online Purchase Scam</td>\n",
       "      <td>False</td>\n",
       "      <td>Online Purchase</td>\n",
       "      <td>0.0</td>\n",
       "      <td>...</td>\n",
       "      <td>NaN</td>\n",
       "      <td>NaN</td>\n",
       "      <td>D.C.</td>\n",
       "      <td>DC</td>\n",
       "      <td>NaN</td>\n",
       "      <td>(877) 653-1080</td>\n",
       "      <td>NaN</td>\n",
       "      <td>Vsquarecognicare.com</td>\n",
       "      <td>43</td>\n",
       "      <td>These scams typically involve the purchase of ...</td>\n",
       "    </tr>\n",
       "  </tbody>\n",
       "</table>\n",
       "<p>5 rows × 23 columns</p>\n",
       "</div>"
      ],
      "text/plain": [
       "    pk_id  scam_id  scammer_id  \\\n",
       "0  848147   848724    867691.0   \n",
       "1  848330   848907    867874.0   \n",
       "2  848370   848947    867914.0   \n",
       "3  848351   848928    867895.0   \n",
       "4  848001   848578    867545.0   \n",
       "\n",
       "                                         description   createdOn  modifiedOn  \\\n",
       "0  received letter stating that I must call immed...  2024-05-30  2024-05-30   \n",
       "1  Sent an email that read:Request Logged\\nWe're ...  2024-05-30  2024-05-30   \n",
       "2  Email sent as fake invoice for Norton PC and t...  2024-05-30  2024-05-30   \n",
       "3  My husband and I was looking at renting a hous...  2024-05-30  2024-05-30   \n",
       "4  Scammer charged to my credit card for somethin...  2024-05-30  2024-05-30   \n",
       "\n",
       "              scam_name  confirmed        scam_type  dollar_value  ...  \\\n",
       "0                   NaN      False         Phishing           0.0  ...   \n",
       "1                   NaN      False            Other         345.0  ...   \n",
       "2                   NaN      False         Phishing           0.0  ...   \n",
       "3                   NaN      False  Online Purchase           0.0  ...   \n",
       "4  Online Purchase Scam      False  Online Purchase           0.0  ...   \n",
       "\n",
       "  scammer_address_1 scammer_address_2 scammer_city scammer_state  scammer_zip  \\\n",
       "0               NaN               NaN          NaN           NaN          NaN   \n",
       "1               NaN               NaN          NaN           NaN          NaN   \n",
       "2               NaN               NaN          NaN           NaN          NaN   \n",
       "3               NaN               NaN      Raeford            NC          NaN   \n",
       "4               NaN               NaN         D.C.            DC          NaN   \n",
       "\n",
       "     scammer_phone                scammer_email           scammer_url  \\\n",
       "0   (877) 205-9492                          NaN                   NaN   \n",
       "1  1(111) 111-1111  sraylin_nhei2223@icloud.com                   NaN   \n",
       "2   (888) 462-4991  emberislacederada@gmail.com                   NaN   \n",
       "3              NaN                          NaN  Facebook Marketplace   \n",
       "4   (877) 653-1080                          NaN  Vsquarecognicare.com   \n",
       "\n",
       "  scam_type_id                                         definition  \n",
       "0           23  In these schemes, scammers impersonating a tru...  \n",
       "1           36  Another category of scam experience that curre...  \n",
       "2           23  In these schemes, scammers impersonating a tru...  \n",
       "3           43  These scams typically involve the purchase of ...  \n",
       "4           43  These scams typically involve the purchase of ...  \n",
       "\n",
       "[5 rows x 23 columns]"
      ]
     },
     "execution_count": 2,
     "metadata": {},
     "output_type": "execute_result"
    }
   ],
   "source": [
    "df.head()"
   ]
  },
  {
   "cell_type": "code",
   "execution_count": 13,
   "metadata": {},
   "outputs": [
    {
     "name": "stdout",
     "output_type": "stream",
     "text": [
      "max scams done to the same person:  2\n",
      "max scams by same scammer:  2\n"
     ]
    }
   ],
   "source": [
    "\n",
    "print(\"max scams done to the same person: \", df[['pk_id', 'scammer_id']].groupby('pk_id').count().reset_index()['scammer_id'].max())\n",
    "print(\"max scams by same scammer: \", df[['scammer_id', 'pk_id']].groupby('scammer_id').count().reset_index()['pk_id'].max())"
   ]
  },
  {
   "cell_type": "code",
   "execution_count": 15,
   "metadata": {},
   "outputs": [
    {
     "data": {
      "text/plain": [
       "Index(['pk_id', 'scam_id', 'scammer_id', 'description', 'createdOn',\n",
       "       'modifiedOn', 'scam_name', 'confirmed', 'scam_type', 'dollar_value',\n",
       "       'target_state', 'target_zip', 'target_country', 'scammer_address_1',\n",
       "       'scammer_address_2', 'scammer_city', 'scammer_state', 'scammer_zip',\n",
       "       'scammer_phone', 'scammer_email', 'scammer_url', 'scam_type_id',\n",
       "       'definition'],\n",
       "      dtype='object')"
      ]
     },
     "execution_count": 15,
     "metadata": {},
     "output_type": "execute_result"
    }
   ],
   "source": [
    "df.columns"
   ]
  },
  {
   "cell_type": "code",
   "execution_count": 63,
   "metadata": {},
   "outputs": [
    {
     "data": {
      "text/plain": [
       "np.float64(0.298)"
      ]
     },
     "execution_count": 63,
     "metadata": {},
     "output_type": "execute_result"
    }
   ],
   "source": [
    "df['scammer_phone'].isnull().mean()"
   ]
  },
  {
   "cell_type": "code",
   "execution_count": 78,
   "metadata": {},
   "outputs": [],
   "source": [
    "#normalize phone number\n",
    "import re\n",
    "import phonenumbers\n",
    "import numpy as np\n",
    "df['scammer_phone'].iloc[0]\n",
    "phonenumbers.parse(df['scammer_phone'].iloc[0], \"US\").national_number\n",
    "def parse_phone_safe(x):\n",
    "    try:\n",
    "        return phonenumbers.parse(x, \"US\").national_number\n",
    "    except:\n",
    "        return x\n",
    "df['scammer_phone'] = df['scammer_phone'].apply(lambda x: parse_phone_safe(x))\n"
   ]
  },
  {
   "cell_type": "code",
   "execution_count": 83,
   "metadata": {},
   "outputs": [],
   "source": [
    "import pandas as pd\n",
    "len(df['scammer_phone'].unique())\n",
    "valid_rows = df[df['scammer_phone'].notnull() & df['scammer_email'].notnull()]\n",
    "email_to_phone = valid_rows.set_index('scammer_email')['scammer_phone'].to_dict()\n",
    "phone_to_email = valid_rows.set_index('scammer_phone')['scammer_email'].to_dict()\n",
    "#where null and value availabil fill in \n",
    "df['scammer_phone'] = df.apply(lambda x: email_to_phone.get(x['scammer_email']) if pd.isnull(x['scammer_phone']) else x['scammer_phone'], axis=1)\n",
    "df['scammer_email'] = df.apply(lambda x: phone_to_email.get(x['scammer_phone']) if pd.isnull(x['scammer_email']) else x['scammer_email'], axis=1)"
   ]
  },
  {
   "cell_type": "code",
   "execution_count": 90,
   "metadata": {},
   "outputs": [
    {
     "data": {
      "text/plain": [
       "'They have sent me this letter several times stating my warranty was increasing in price April 4th was date n last letter I recieved. Asked me to call and use customer code# E2478571907 to get it set up for price increase.  I don&rsquo;t own a vehicle and haven&rsquo;t in 13+ yrs I&rsquo;m unable to drive I have epilepsy and brain tumor can&rsquo;t drive until 6 months seizure free and drs say never happen. I have not had license due to this in about 10 yrs now. I have called them telling them this before demanding to know who&rsquo;s got warranty in my name and for what car and they tell me it must have been mistake cause I&rsquo;m not in system.'"
      ]
     },
     "execution_count": 90,
     "metadata": {},
     "output_type": "execute_result"
    }
   ],
   "source": [
    "df['description'].sample(10).iloc[0]"
   ]
  },
  {
   "cell_type": "code",
   "execution_count": 9,
   "metadata": {},
   "outputs": [
    {
     "data": {
      "text/plain": [
       "np.float64(46.93222053616591)"
      ]
     },
     "execution_count": 9,
     "metadata": {},
     "output_type": "execute_result"
    }
   ],
   "source": [
    "df['definition'][df['definition'].notnull()].apply(lambda x: len(x.split())).mean()"
   ]
  },
  {
   "cell_type": "code",
   "execution_count": null,
   "metadata": {},
   "outputs": [],
   "source": [
    "hi"
   ]
  }
 ],
 "metadata": {
  "kernelspec": {
   "display_name": "Python 3",
   "language": "python",
   "name": "python3"
  },
  "language_info": {
   "codemirror_mode": {
    "name": "ipython",
    "version": 3
   },
   "file_extension": ".py",
   "mimetype": "text/x-python",
   "name": "python",
   "nbconvert_exporter": "python",
   "pygments_lexer": "ipython3",
   "version": "3.9.19"
  }
 },
 "nbformat": 4,
 "nbformat_minor": 2
}
